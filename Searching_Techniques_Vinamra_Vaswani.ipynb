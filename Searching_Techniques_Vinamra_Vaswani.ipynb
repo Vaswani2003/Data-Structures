{
  "nbformat": 4,
  "nbformat_minor": 0,
  "metadata": {
    "colab": {
      "provenance": []
    },
    "kernelspec": {
      "name": "python3",
      "display_name": "Python 3"
    },
    "language_info": {
      "name": "python"
    }
  },
  "cells": [
    {
      "cell_type": "markdown",
      "source": [
        "# ***Linear Search***"
      ],
      "metadata": {
        "id": "ZLMvTPWSC_OL"
      }
    },
    {
      "cell_type": "markdown",
      "source": [
        "Linear Search is defined as a sequential search algorithm that starts at one end and goes through each element of a list until the desired element is found, otherwise the search continues till the end of the data set. It is the easiest searching algorithm. Iterate from 0 to N-1 and compare the value of every index with x if they match return index."
      ],
      "metadata": {
        "id": "8gq3ojZ-maSV"
      }
    },
    {
      "cell_type": "markdown",
      "source": [
        "**Follow the given steps to solve the problem:**\n",
        "\n",
        "--> Start from the leftmost element of arr[ ] and one by one compare x with each element of arr[ ].\n",
        "\n",
        "--> If x matches with an element, return the index.\n",
        "\n",
        "--> If x doesn’t match with any of the elements, return -1."
      ],
      "metadata": {
        "id": "FuWxjoVem0bk"
      }
    },
    {
      "cell_type": "code",
      "source": [
        "import random\n",
        "from numpy import array as npa \n",
        "\n",
        "\n",
        "def LinearSearch( Array, element) :\n",
        "  match = False \n",
        "  for i in range(len(Array)) :\n",
        "    \n",
        "    if Array[i] == element :\n",
        "      print('The index value of {} is {} and position is {} in the array'.format(element,i,i+1))\n",
        "      match = not(match)\n",
        "      break \n",
        "\n",
        "  if match == False :\n",
        "    print('Element does not exist in the array')\n",
        "\n",
        "\n",
        "data = npa(random.sample(range(0,100),25))\n",
        "\n",
        "print('The Array is: ',data)\n",
        "\n",
        "x = int(input('Enter element you want to search :'))\n",
        "\n",
        "LinearSearch(data,x)"
      ],
      "metadata": {
        "id": "iORc91yGCtim"
      },
      "execution_count": null,
      "outputs": []
    },
    {
      "cell_type": "markdown",
      "source": [
        "# ***Binary Search***"
      ],
      "metadata": {
        "id": "Ps0X-tI_kUyY"
      }
    },
    {
      "cell_type": "markdown",
      "source": [
        "Binary Search is a searching algorithm used in a sorted array by repeatedly dividing the search interval in half. The idea of binary search is to use the information that the array is sorted and reduce the time complexity to O(Log n). "
      ],
      "metadata": {
        "id": "Wpj_Cie2kYTY"
      }
    },
    {
      "cell_type": "markdown",
      "source": [
        "**Binary Search Algorithm:** The basic steps to perform Binary Search are:\n",
        "\n",
        "->Begin with the mid element of the whole array as a search key.\n",
        "\n",
        "->If the value of the search key is equal to the item then return an index of the search key.\n",
        "\n",
        "->Or if the value of the search key is less than the item in the middle of the interval, narrow the interval to the lower half.\n",
        "\n",
        "->Otherwise, narrow it to the upper half.\n",
        "\n",
        "->Repeatedly check from the second point until the value is found or the interval is empty."
      ],
      "metadata": {
        "id": "xL6qFLgIkw3-"
      }
    },
    {
      "cell_type": "code",
      "source": [
        "import numpy \n",
        "\n",
        "\n",
        "def BinarySearch( Array, lower, upper, num ) :\n",
        "\n",
        "  if upper >= lower :\n",
        "    mid  = (lower + upper)//2 \n",
        "\n",
        "    if Array[mid] == num :\n",
        "      return mid \n",
        "\n",
        "    elif num < Array[mid] :\n",
        "      return BinarySearch( Array, lower, mid -1 , num )\n",
        "\n",
        "    else :\n",
        "      return BinarySearch( Array, mid+1, upper, num )\n",
        "    \n",
        "  else :\n",
        "    return -1  #element does not exist\n",
        "\n",
        "\n",
        "data = numpy.array( range(0,101,10) ) # we have a sorted array here \n",
        "\n",
        "print('The array is',data)\n",
        "\n",
        "x = int(input('Enter the element to search :'))\n",
        "\n",
        "print('The index of {} is {} '.format(x,BinarySearch(data,0,len(data)-1,x) ) )\n"
      ],
      "metadata": {
        "colab": {
          "base_uri": "https://localhost:8080/"
        },
        "id": "QESwWdyukUKJ",
        "outputId": "856501ca-f3ae-44a7-8412-183b9ded5719"
      },
      "execution_count": null,
      "outputs": [
        {
          "output_type": "stream",
          "name": "stdout",
          "text": [
            "The array is [  0  10  20  30  40  50  60  70  80  90 100]\n",
            "Enter the element to search :60\n",
            "The index of 60 is 6 \n"
          ]
        }
      ]
    },
    {
      "cell_type": "markdown",
      "source": [
        "# ***Linear Search through Recurssion***"
      ],
      "metadata": {
        "id": "ffXx153nnz6X"
      }
    },
    {
      "cell_type": "code",
      "source": [
        "import random \n",
        "from numpy import array as npa \n",
        "\n",
        "def LinearSearch_R(array,key,size) :\n",
        "  if size == 0 :\n",
        "    return -1\n",
        "  elif size == 1 and array[0] != key :\n",
        "    return -1\n",
        "  elif array[size] == key :\n",
        "    return size\n",
        "  else :\n",
        "    LinearSearch_R(array,key,size-1)\n",
        "\n",
        "\n",
        "data = npa( random.sample(range(100),25) )\n",
        "\n",
        "print('The array is',data)\n",
        "\n",
        "x = int(input('Enter the element you want to search in the array :'))\n",
        "\n",
        "result = LinearSearch_R( data, x, len(data)-1 )\n",
        "\n",
        "print(x,'is at index value',result)\n",
        "\n"
      ],
      "metadata": {
        "colab": {
          "base_uri": "https://localhost:8080/"
        },
        "id": "fPCvFtP3ny42",
        "outputId": "528a97bc-9e3d-46d8-d099-d29934d02130"
      },
      "execution_count": null,
      "outputs": [
        {
          "output_type": "stream",
          "name": "stdout",
          "text": [
            "The array is [12 94 65 46 56 87  6 86 59 90 24 45 93 51 68 11 55 42 67 89 16 21 33 48\n",
            " 80]\n",
            "Enter the element you want to search in the array :51\n",
            "51 is at index value None\n"
          ]
        }
      ]
    },
    {
      "cell_type": "markdown",
      "source": [
        "# ***Maximum Element in Array***"
      ],
      "metadata": {
        "id": "dHBmpnBsF9Ps"
      }
    },
    {
      "cell_type": "code",
      "source": [
        "import random\n",
        "from numpy import array as npa \n",
        "\n",
        "data = npa(random.sample(range(100),25))\n",
        "\n",
        "def MaximumElement(data) :\n",
        "  max = data[0]\n",
        "  for i in range(1,len(data)) :\n",
        "    if data[i] > max :\n",
        "      max = data[i]\n",
        "\n",
        "  return max\n",
        "\n",
        "print('The Array is :',data)\n",
        "\n",
        "print('The maximum element in array is',MaximumElement(data))"
      ],
      "metadata": {
        "colab": {
          "base_uri": "https://localhost:8080/"
        },
        "id": "MEqbC5N0F8-S",
        "outputId": "ab2ef6ae-5a41-42ba-d29a-09cb3ad945ec"
      },
      "execution_count": null,
      "outputs": [
        {
          "output_type": "stream",
          "name": "stdout",
          "text": [
            "The Array is : [77 32 89 45 17  9 75 92  7 13 73 76 97 27 38 99 36 58 35 20 40 55 47 98\n",
            " 39]\n",
            "The maximum element in array is 99\n"
          ]
        }
      ]
    },
    {
      "cell_type": "markdown",
      "source": [
        "# ***Minimum Element in array***"
      ],
      "metadata": {
        "id": "VAcwfDtNGo6a"
      }
    },
    {
      "cell_type": "code",
      "source": [
        "import random\n",
        "from numpy import array as npa \n",
        "\n",
        "data = npa(random.sample(range(100),25))\n",
        "\n",
        "def MinimumElement(data) :\n",
        "  min = data[0]\n",
        "  for i in range(1,len(data)) :\n",
        "    if data[i] < min :\n",
        "      min = data[i]\n",
        "\n",
        "  return min\n",
        "\n",
        "print('The Array is :',data)\n",
        "\n",
        "print('The mimimum element in array is',MinimumElement(data))"
      ],
      "metadata": {
        "colab": {
          "base_uri": "https://localhost:8080/"
        },
        "id": "TTUNb6RMGtsv",
        "outputId": "ff6cd66c-7d46-4c2f-b77c-6e8640227070"
      },
      "execution_count": null,
      "outputs": [
        {
          "output_type": "stream",
          "name": "stdout",
          "text": [
            "The Array is : [12 79 14 98 49 99  4 68  2 90 48 57 74 32 25  6 17  1 60 35 20 18 81  5\n",
            "  9]\n",
            "The mimimum element in array is 1\n"
          ]
        }
      ]
    },
    {
      "cell_type": "code",
      "source": [
        "print( list(map(chr,range(97,123))) )"
      ],
      "metadata": {
        "colab": {
          "base_uri": "https://localhost:8080/"
        },
        "id": "FoxMUfU5bwRZ",
        "outputId": "50682c40-df99-4806-aee1-f0daf267a1cd"
      },
      "execution_count": null,
      "outputs": [
        {
          "output_type": "stream",
          "name": "stdout",
          "text": [
            "['a', 'b', 'c', 'd', 'e', 'f', 'g', 'h', 'i', 'j', 'k', 'l', 'm', 'n', 'o', 'p', 'q', 'r', 's', 't', 'u', 'v', 'w', 'x', 'y', 'z']\n"
          ]
        }
      ]
    }
  ]
}